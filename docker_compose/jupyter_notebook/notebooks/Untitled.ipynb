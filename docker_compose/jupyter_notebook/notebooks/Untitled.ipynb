{
 "cells": [
  {
   "cell_type": "code",
   "execution_count": 1,
   "id": "6bd72988-f9c1-46a5-8b38-fd045687db6b",
   "metadata": {},
   "outputs": [
    {
     "ename": "ModuleNotFoundError",
     "evalue": "No module named 'redis'",
     "output_type": "error",
     "traceback": [
      "\u001b[0;31m---------------------------------------------------------------------------\u001b[0m",
      "\u001b[0;31mModuleNotFoundError\u001b[0m                       Traceback (most recent call last)",
      "Cell \u001b[0;32mIn[1], line 1\u001b[0m\n\u001b[0;32m----> 1\u001b[0m \u001b[38;5;28;01mimport\u001b[39;00m \u001b[38;5;21;01mredis\u001b[39;00m\n",
      "\u001b[0;31mModuleNotFoundError\u001b[0m: No module named 'redis'"
     ]
    }
   ],
   "source": [
    "import redis"
   ]
  },
  {
   "cell_type": "code",
   "execution_count": 2,
   "id": "7087b3af-10d4-42ce-a761-046a6892c54b",
   "metadata": {},
   "outputs": [
    {
     "name": "stdout",
     "output_type": "stream",
     "text": [
      "Collecting redis\n",
      "  Downloading redis-6.4.0-py3-none-any.whl.metadata (10 kB)\n",
      "Downloading redis-6.4.0-py3-none-any.whl (279 kB)\n",
      "\u001b[2K   \u001b[90m━━━━━━━━━━━━━━━━━━━━━━━━━━━━━━━━━━━━━━━━\u001b[0m \u001b[32m279.8/279.8 kB\u001b[0m \u001b[31m5.6 MB/s\u001b[0m eta \u001b[36m0:00:00\u001b[0ma \u001b[36m0:00:01\u001b[0m\n",
      "\u001b[?25hInstalling collected packages: redis\n",
      "Successfully installed redis-6.4.0\n"
     ]
    }
   ],
   "source": [
    "!pip install redis"
   ]
  },
  {
   "cell_type": "code",
   "execution_count": 3,
   "id": "ee1eff96-2127-424a-989d-7c947a86c218",
   "metadata": {},
   "outputs": [],
   "source": [
    "import redis"
   ]
  },
  {
   "cell_type": "code",
   "execution_count": 5,
   "id": "c00bb02d-ed33-4fc2-8a15-f996b3c67ca3",
   "metadata": {},
   "outputs": [
    {
     "name": "stdout",
     "output_type": "stream",
     "text": [
      "Valor guardado en Redis.\n",
      "Valor recuperado de Redis: ¡Hola a todos desde Python!\n"
     ]
    },
    {
     "data": {
      "text/plain": [
       "0"
      ]
     },
     "execution_count": 5,
     "metadata": {},
     "output_type": "execute_result"
    }
   ],
   "source": [
    "# Conectarse al servidor de Redis\n",
    "# Si estás usando Docker Compose, el 'host' es el nombre del servicio de tu contenedor de Redis\n",
    "# Si está en tu máquina local, el host es 'localhost'\n",
    "r = redis.Redis(host='redis', port=6379, db=0, decode_responses=True)\n",
    "\n",
    "# Guardar un valor\n",
    "# El método 'set' guarda un par clave-valor\n",
    "r.set('saludo', '¡Hola a todos desde Python!')\n",
    "print(\"Valor guardado en Redis.\")\n",
    "\n",
    "# Recuperar un valor\n",
    "# El método 'get' recupera el valor de una clave\n",
    "valor = r.get('saludo')\n",
    "print(f\"Valor recuperado de Redis: {valor}\")\n",
    "\n",
    "# Trabajar con otras estructuras de datos\n",
    "# Puedes usar 'hset' para hashes, 'lpush' para listas, etc.\n",
    "r.hset('usuario:101', mapping={\n",
    "    'nombre': 'Juan',\n",
    "    'apellido': 'Pérez',\n",
    "    'email': 'juan.perez@example.com'\n",
    "})"
   ]
  },
  {
   "cell_type": "code",
   "execution_count": 6,
   "id": "29d0ddc7-6522-4b65-9aed-8b9eee42e5cc",
   "metadata": {},
   "outputs": [
    {
     "name": "stdout",
     "output_type": "stream",
     "text": [
      "Archivo \"webserver.log\" creado con 1000 entradas de log.\n"
     ]
    }
   ],
   "source": [
    "import random\n",
    "import datetime\n",
    "\n",
    "def generate_log_entry(ip):\n",
    "    \"\"\"Genera una entrada de log simulada.\"\"\"\n",
    "    # Simula la fecha y hora\n",
    "    now = datetime.datetime.now()\n",
    "    timestamp = now.strftime('%d/%b/%Y:%H:%M:%S +0000')\n",
    "\n",
    "    # Simula un método y un recurso web\n",
    "    methods = [\"GET\", \"POST\", \"PUT\", \"DELETE\"]\n",
    "    resources = [\"/\", \"/about\", \"/products/1\", \"/contact\", \"/api/data\", \"/blog/post/5\"]\n",
    "    method = random.choice(methods)\n",
    "    resource = random.choice(resources)\n",
    "\n",
    "    # Simula un código de estado HTTP\n",
    "    status_codes = [200, 200, 200, 404, 500, 301]\n",
    "    status = random.choice(status_codes)\n",
    "\n",
    "    # Simula el tamaño de la respuesta\n",
    "    bytes_sent = random.randint(100, 5000)\n",
    "\n",
    "    # Simula el user agent\n",
    "    user_agents = [\n",
    "        \"Mozilla/5.0 (Windows NT 10.0; Win64; x64)\",\n",
    "        \"Mozilla/5.0 (Macintosh; Intel Mac OS X 10_15_7)\",\n",
    "        \"Mozilla/5.0 (Linux; Android 10)\",\n",
    "        \"Googlebot/2.1 (+http://www.google.com/bot.html)\"\n",
    "    ]\n",
    "    user_agent = random.choice(user_agents)\n",
    "\n",
    "    return f'{ip} - - [{timestamp}] \"{method} {resource} HTTP/1.1\" {status} {bytes_sent} \"-\" \"{user_agent}\"\\n'\n",
    "\n",
    "def generate_log_file(filename, num_entries):\n",
    "    \"\"\"Genera un archivo de log con el número de entradas especificado.\"\"\"\n",
    "    with open(filename, 'w') as f:\n",
    "        # Crea algunas IPs comunes para que se repitan\n",
    "        common_ips = [f'192.168.1.{i}' for i in range(1, 10)]\n",
    "        \n",
    "        # Genera las 1000 entradas\n",
    "        for _ in range(num_entries):\n",
    "            # 30% de las veces, usa una de las IPs comunes\n",
    "            if random.random() < 0.3:\n",
    "                ip_address = random.choice(common_ips)\n",
    "            # 70% de las veces, genera una IP aleatoria\n",
    "            else:\n",
    "                ip_address = f'{random.randint(1, 255)}.{random.randint(1, 255)}.{random.randint(1, 255)}.{random.randint(1, 255)}'\n",
    "            \n",
    "            log_entry = generate_log_entry(ip_address)\n",
    "            f.write(log_entry)\n",
    "\n",
    "    print(f'Archivo \"{filename}\" creado con {num_entries} entradas de log.')\n",
    "\n",
    "if __name__ == '__main__':\n",
    "    generate_log_file(\"webserver.log\", 1000)"
   ]
  },
  {
   "cell_type": "code",
   "execution_count": null,
   "id": "e8931c83-6b33-4d57-b036-3c83a575718b",
   "metadata": {},
   "outputs": [],
   "source": []
  },
  {
   "cell_type": "code",
   "execution_count": null,
   "id": "2f9f43d1-3a8e-4df9-aac4-b2d20819ce05",
   "metadata": {},
   "outputs": [],
   "source": []
  }
 ],
 "metadata": {
  "kernelspec": {
   "display_name": "Python 3 (ipykernel)",
   "language": "python",
   "name": "python3"
  },
  "language_info": {
   "codemirror_mode": {
    "name": "ipython",
    "version": 3
   },
   "file_extension": ".py",
   "mimetype": "text/x-python",
   "name": "python",
   "nbconvert_exporter": "python",
   "pygments_lexer": "ipython3",
   "version": "3.11.6"
  }
 },
 "nbformat": 4,
 "nbformat_minor": 5
}
